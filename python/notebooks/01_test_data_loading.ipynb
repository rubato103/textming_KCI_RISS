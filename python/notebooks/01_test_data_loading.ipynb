{
 "cells": [
  {
   "cell_type": "markdown",
   "metadata": {},
   "source": [
    "# 01. 데이터 로딩 및 분석 테스트\n",
    "\n",
    "R 스크립트를 Python으로 변환한 코드 테스트"
   ]
  },
  {
   "cell_type": "code",
   "execution_count": null,
   "metadata": {},
   "outputs": [],
   "source": [
    "# 필요한 패키지 설치 (최초 1회)\n",
    "# !pip install pandas openpyxl"
   ]
  },
  {
   "cell_type": "code",
   "execution_count": null,
   "metadata": {},
   "outputs": [],
   "source": [
    "import sys\n",
    "from pathlib import Path\n",
    "\n",
    "# 프로젝트 루트 경로 설정\n",
    "PROJECT_ROOT = Path.cwd().parent.parent\n",
    "sys.path.append(str(PROJECT_ROOT))\n",
    "sys.path.append(str(PROJECT_ROOT / 'python'))\n",
    "\n",
    "print(f\"프로젝트 루트: {PROJECT_ROOT}\")"
   ]
  },
  {
   "cell_type": "code",
   "execution_count": null,
   "metadata": {},
   "outputs": [],
   "source": [
    "# 모듈 임포트\n",
    "from src.01_data_loading_and_analysis import Config, DataLoader, DataAnalyzer"
   ]
  },
  {
   "cell_type": "code",
   "execution_count": null,
   "metadata": {},
   "outputs": [],
   "source": [
    "# 설정 초기화\n",
    "config = Config()\n",
    "print(f\"Raw data path: {config.raw_data_path}\")\n",
    "print(f\"Processed data path: {config.processed_data_path}\")\n",
    "print(f\"Reports path: {config.reports_path}\")"
   ]
  },
  {
   "cell_type": "code",
   "execution_count": null,
   "metadata": {},
   "outputs": [],
   "source": [
    "# 데이터 로더 초기화 및 파일 찾기\n",
    "loader = DataLoader(config)\n",
    "excel_files = loader.find_excel_files()\n",
    "print(f\"\\n찾은 Excel 파일 수: {len(excel_files)}\")"
   ]
  },
  {
   "cell_type": "code",
   "execution_count": null,
   "metadata": {},
   "outputs": [],
   "source": [
    "# 데이터 로드 및 병합\n",
    "combined_data = loader.load_and_combine()\n",
    "\n",
    "if combined_data is not None:\n",
    "    print(f\"\\n병합된 데이터 shape: {combined_data.shape}\")\n",
    "    print(f\"컬럼 목록: {list(combined_data.columns)[:10]}\")  # 처음 10개만 표시"
   ]
  },
  {
   "cell_type": "code",
   "execution_count": null,
   "metadata": {},
   "outputs": [],
   "source": [
    "# 데이터 분석\n",
    "if combined_data is not None:\n",
    "    analyzer = DataAnalyzer(config)\n",
    "    \n",
    "    # 데이터 표준화\n",
    "    combined_data = analyzer.standardize_data(combined_data)\n",
    "    \n",
    "    # 구조 분석\n",
    "    analysis_result = analyzer.analyze_structure(combined_data)\n",
    "    \n",
    "    print(f\"\\n텍스트 컬럼 수: {len(analysis_result['text_columns'])}\")\n",
    "    print(f\"텍스트 컬럼: {analysis_result['text_columns'][:5]}\")  # 처음 5개만 표시"
   ]
  },
  {
   "cell_type": "code",
   "execution_count": null,
   "metadata": {},
   "outputs": [],
   "source": [
    "# 결과 저장\n",
    "if combined_data is not None:\n",
    "    saved_files = analyzer.save_results(combined_data, analysis_result)\n",
    "    \n",
    "    print(\"\\n저장된 파일:\")\n",
    "    for key, value in saved_files.items():\n",
    "        print(f\"  {key}: {Path(value).name}\")"
   ]
  },
  {
   "cell_type": "code",
   "execution_count": null,
   "metadata": {},
   "outputs": [],
   "source": [
    "# 데이터 샘플 확인\n",
    "if combined_data is not None:\n",
    "    print(\"\\n데이터 샘플 (처음 5행):\")\n",
    "    display(combined_data.head())"
   ]
  },
  {
   "cell_type": "code",
   "execution_count": null,
   "metadata": {},
   "outputs": [],
   "source": [
    "# 데이터 타입 확인\n",
    "if combined_data is not None:\n",
    "    print(\"\\n데이터 타입:\")\n",
    "    print(combined_data.dtypes)"
   ]
  },
  {
   "cell_type": "code",
   "execution_count": null,
   "metadata": {},
   "outputs": [],
   "source": [
    "# 결측치 확인\n",
    "if combined_data is not None:\n",
    "    print(\"\\n결측치 비율:\")\n",
    "    missing_ratio = (combined_data.isna().sum() / len(combined_data) * 100).round(2)\n",
    "    print(missing_ratio[missing_ratio > 0].sort_values(ascending=False))"
   ]
  }
 ],
 "metadata": {
  "kernelspec": {
   "display_name": "Python 3",
   "language": "python",
   "name": "python3"
  },
  "language_info": {
   "codemirror_mode": {
    "name": "ipython",
    "version": 3
   },
   "file_extension": ".py",
   "mimetype": "text/x-python",
   "name": "python",
   "nbconvert_exporter": "python",
   "pygments_lexer": "ipython3",
   "version": "3.9.0"
  }
 },
 "nbformat": 4,
 "nbformat_minor": 4
}